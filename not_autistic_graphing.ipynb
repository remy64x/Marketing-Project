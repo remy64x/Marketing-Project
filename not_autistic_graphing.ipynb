{
 "cells": [
  {
   "cell_type": "code",
   "execution_count": 34,
   "metadata": {},
   "outputs": [],
   "source": [
    "import pandas as pd\n",
    "import numpy as np\n",
    "import matplotlib.pyplot as plt\n",
    "import seaborn as sns\n",
    "import statsmodels.api as sm\n",
    "import statsmodels.formula.api as smf"
   ]
  },
  {
   "cell_type": "code",
   "execution_count": 3,
   "metadata": {},
   "outputs": [
    {
     "data": {
      "text/html": [
       "<div>\n",
       "<style scoped>\n",
       "    .dataframe tbody tr th:only-of-type {\n",
       "        vertical-align: middle;\n",
       "    }\n",
       "\n",
       "    .dataframe tbody tr th {\n",
       "        vertical-align: top;\n",
       "    }\n",
       "\n",
       "    .dataframe thead th {\n",
       "        text-align: right;\n",
       "    }\n",
       "</style>\n",
       "<table border=\"1\" class=\"dataframe\">\n",
       "  <thead>\n",
       "    <tr style=\"text-align: right;\">\n",
       "      <th></th>\n",
       "      <th>id</th>\n",
       "      <th>year</th>\n",
       "      <th>assets</th>\n",
       "      <th>debt</th>\n",
       "      <th>earnings</th>\n",
       "      <th>cashflow</th>\n",
       "      <th>sales</th>\n",
       "      <th>mv</th>\n",
       "      <th>ad</th>\n",
       "      <th>rd</th>\n",
       "      <th>fv</th>\n",
       "      <th>mkt</th>\n",
       "      <th>sector</th>\n",
       "    </tr>\n",
       "  </thead>\n",
       "  <tbody>\n",
       "    <tr>\n",
       "      <th>0</th>\n",
       "      <td>2</td>\n",
       "      <td>1991</td>\n",
       "      <td>34.150</td>\n",
       "      <td>12.901</td>\n",
       "      <td>6.133</td>\n",
       "      <td>-4.760</td>\n",
       "      <td>40.661</td>\n",
       "      <td>93.641594</td>\n",
       "      <td>0.848000</td>\n",
       "      <td>1.94200</td>\n",
       "      <td>2.556972</td>\n",
       "      <td>13.551000</td>\n",
       "      <td>1</td>\n",
       "    </tr>\n",
       "    <tr>\n",
       "      <th>1</th>\n",
       "      <td>2</td>\n",
       "      <td>1992</td>\n",
       "      <td>100.190</td>\n",
       "      <td>73.684</td>\n",
       "      <td>5.239</td>\n",
       "      <td>5.642</td>\n",
       "      <td>54.998</td>\n",
       "      <td>63.700230</td>\n",
       "      <td>0.880000</td>\n",
       "      <td>2.46900</td>\n",
       "      <td>1.125155</td>\n",
       "      <td>20.593000</td>\n",
       "      <td>1</td>\n",
       "    </tr>\n",
       "    <tr>\n",
       "      <th>2</th>\n",
       "      <td>2</td>\n",
       "      <td>1993</td>\n",
       "      <td>89.988</td>\n",
       "      <td>73.488</td>\n",
       "      <td>13.044</td>\n",
       "      <td>7.724</td>\n",
       "      <td>69.560</td>\n",
       "      <td>49.590862</td>\n",
       "      <td>1.168000</td>\n",
       "      <td>4.79100</td>\n",
       "      <td>1.165176</td>\n",
       "      <td>26.938999</td>\n",
       "      <td>1</td>\n",
       "    </tr>\n",
       "    <tr>\n",
       "      <th>3</th>\n",
       "      <td>2</td>\n",
       "      <td>1994</td>\n",
       "      <td>89.778</td>\n",
       "      <td>72.782</td>\n",
       "      <td>13.605</td>\n",
       "      <td>6.720</td>\n",
       "      <td>68.097</td>\n",
       "      <td>53.476501</td>\n",
       "      <td>1.503000</td>\n",
       "      <td>4.78300</td>\n",
       "      <td>1.190308</td>\n",
       "      <td>24.464001</td>\n",
       "      <td>1</td>\n",
       "    </tr>\n",
       "    <tr>\n",
       "      <th>4</th>\n",
       "      <td>3</td>\n",
       "      <td>1990</td>\n",
       "      <td>6.130</td>\n",
       "      <td>1.790</td>\n",
       "      <td>0.796</td>\n",
       "      <td>0.805</td>\n",
       "      <td>7.388</td>\n",
       "      <td>1.752816</td>\n",
       "      <td>0.009000</td>\n",
       "      <td>0.20600</td>\n",
       "      <td>0.536348</td>\n",
       "      <td>1.611000</td>\n",
       "      <td>1</td>\n",
       "    </tr>\n",
       "    <tr>\n",
       "      <th>...</th>\n",
       "      <td>...</td>\n",
       "      <td>...</td>\n",
       "      <td>...</td>\n",
       "      <td>...</td>\n",
       "      <td>...</td>\n",
       "      <td>...</td>\n",
       "      <td>...</td>\n",
       "      <td>...</td>\n",
       "      <td>...</td>\n",
       "      <td>...</td>\n",
       "      <td>...</td>\n",
       "      <td>...</td>\n",
       "      <td>...</td>\n",
       "    </tr>\n",
       "    <tr>\n",
       "      <th>29884</th>\n",
       "      <td>4756</td>\n",
       "      <td>2015</td>\n",
       "      <td>8092.460</td>\n",
       "      <td>2040.375</td>\n",
       "      <td>-294.039</td>\n",
       "      <td>-524.499</td>\n",
       "      <td>4046.025</td>\n",
       "      <td>31543.314000</td>\n",
       "      <td>58.299999</td>\n",
       "      <td>717.90002</td>\n",
       "      <td>4.153050</td>\n",
       "      <td>863.932010</td>\n",
       "      <td>1</td>\n",
       "    </tr>\n",
       "    <tr>\n",
       "      <th>29885</th>\n",
       "      <td>4756</td>\n",
       "      <td>2016</td>\n",
       "      <td>22664.076</td>\n",
       "      <td>6053.860</td>\n",
       "      <td>301.459</td>\n",
       "      <td>-123.829</td>\n",
       "      <td>7000.132</td>\n",
       "      <td>34523.969000</td>\n",
       "      <td>48.000000</td>\n",
       "      <td>834.40802</td>\n",
       "      <td>1.771307</td>\n",
       "      <td>1362.489000</td>\n",
       "      <td>1</td>\n",
       "    </tr>\n",
       "    <tr>\n",
       "      <th>29886</th>\n",
       "      <td>4756</td>\n",
       "      <td>2017</td>\n",
       "      <td>28655.372</td>\n",
       "      <td>9486.248</td>\n",
       "      <td>70.917</td>\n",
       "      <td>-60.654</td>\n",
       "      <td>11758.751</td>\n",
       "      <td>52554.945000</td>\n",
       "      <td>66.500000</td>\n",
       "      <td>1378.07300</td>\n",
       "      <td>2.203613</td>\n",
       "      <td>2343.000000</td>\n",
       "      <td>1</td>\n",
       "    </tr>\n",
       "    <tr>\n",
       "      <th>29887</th>\n",
       "      <td>4756</td>\n",
       "      <td>2018</td>\n",
       "      <td>29739.614</td>\n",
       "      <td>9454.055</td>\n",
       "      <td>1634.946</td>\n",
       "      <td>2097.802</td>\n",
       "      <td>21461.268</td>\n",
       "      <td>57442.277000</td>\n",
       "      <td>70.000000</td>\n",
       "      <td>1473.63400</td>\n",
       "      <td>2.306088</td>\n",
       "      <td>2751.227100</td>\n",
       "      <td>1</td>\n",
       "    </tr>\n",
       "    <tr>\n",
       "      <th>29888</th>\n",
       "      <td>4756</td>\n",
       "      <td>2019</td>\n",
       "      <td>34309.000</td>\n",
       "      <td>12627.000</td>\n",
       "      <td>2187.000</td>\n",
       "      <td>2405.000</td>\n",
       "      <td>24578.000</td>\n",
       "      <td>75717.727000</td>\n",
       "      <td>27.000000</td>\n",
       "      <td>1390.00000</td>\n",
       "      <td>2.533117</td>\n",
       "      <td>2572.000000</td>\n",
       "      <td>1</td>\n",
       "    </tr>\n",
       "  </tbody>\n",
       "</table>\n",
       "<p>29888 rows × 13 columns</p>\n",
       "</div>"
      ],
      "text/plain": [
       "         id  year     assets       debt  earnings  cashflow      sales  \\\n",
       "0         2  1991     34.150     12.901     6.133    -4.760     40.661   \n",
       "1         2  1992    100.190     73.684     5.239     5.642     54.998   \n",
       "2         2  1993     89.988     73.488    13.044     7.724     69.560   \n",
       "3         2  1994     89.778     72.782    13.605     6.720     68.097   \n",
       "4         3  1990      6.130      1.790     0.796     0.805      7.388   \n",
       "...     ...   ...        ...        ...       ...       ...        ...   \n",
       "29884  4756  2015   8092.460   2040.375  -294.039  -524.499   4046.025   \n",
       "29885  4756  2016  22664.076   6053.860   301.459  -123.829   7000.132   \n",
       "29886  4756  2017  28655.372   9486.248    70.917   -60.654  11758.751   \n",
       "29887  4756  2018  29739.614   9454.055  1634.946  2097.802  21461.268   \n",
       "29888  4756  2019  34309.000  12627.000  2187.000  2405.000  24578.000   \n",
       "\n",
       "                 mv         ad          rd        fv          mkt  sector  \n",
       "0         93.641594   0.848000     1.94200  2.556972    13.551000       1  \n",
       "1         63.700230   0.880000     2.46900  1.125155    20.593000       1  \n",
       "2         49.590862   1.168000     4.79100  1.165176    26.938999       1  \n",
       "3         53.476501   1.503000     4.78300  1.190308    24.464001       1  \n",
       "4          1.752816   0.009000     0.20600  0.536348     1.611000       1  \n",
       "...             ...        ...         ...       ...          ...     ...  \n",
       "29884  31543.314000  58.299999   717.90002  4.153050   863.932010       1  \n",
       "29885  34523.969000  48.000000   834.40802  1.771307  1362.489000       1  \n",
       "29886  52554.945000  66.500000  1378.07300  2.203613  2343.000000       1  \n",
       "29887  57442.277000  70.000000  1473.63400  2.306088  2751.227100       1  \n",
       "29888  75717.727000  27.000000  1390.00000  2.533117  2572.000000       1  \n",
       "\n",
       "[29888 rows x 13 columns]"
      ]
     },
     "execution_count": 3,
     "metadata": {},
     "output_type": "execute_result"
    }
   ],
   "source": [
    "df = pd.read_csv(\"Marketing Insight.csv\").drop(25285)\n",
    "df"
   ]
  },
  {
   "cell_type": "code",
   "execution_count": 4,
   "metadata": {},
   "outputs": [
    {
     "data": {
      "image/png": "[encoded data removed]",
      "text/plain": [
       "<Figure size 432x288 with 1 Axes>"
      ]
     },
     "metadata": {
      "needs_background": "light"
     },
     "output_type": "display_data"
    }
   ],
   "source": [
    "for i in range(1,9):\n",
    "    data = df[df[\"sector\"] == i]\n",
    "    means = []\n",
    "    for j in range(1990, 2020):\n",
    "        year_data = data[data[\"year\"] == j][\"fv\"]\n",
    "        means.append(np.mean(year_data))\n",
    "    plt.plot(means, label = f\"sector {i}\")\n",
    "    plt.legend()"
   ]
  },
  {
   "cell_type": "code",
   "execution_count": 24,
   "metadata": {},
   "outputs": [
    {
     "name": "stderr",
     "output_type": "stream",
     "text": [
      "<ipython-input-24-70098f9662e5>:1: UserWarning: Boolean Series key will be reindexed to match DataFrame index.\n",
      "  data = df[df[\"sector\"] == 6][df[\"year\"] > 2013]\n"
     ]
    }
   ],
   "source": [
    "data = df[df[\"sector\"] == 6][df[\"year\"] > 2013]\n",
    "X, y = data.iloc[:, :10].join(data.iloc[:, 11:]), data[\"sales\"]"
   ]
  },
  {
   "cell_type": "code",
   "execution_count": 35,
   "metadata": {},
   "outputs": [
    {
     "data": {
      "text/plain": [
       "<AxesSubplot:>"
      ]
     },
     "execution_count": 35,
     "metadata": {},
     "output_type": "execute_result"
    },
    {
     "data": {
      "image/png": "[encoded data removed]",
      "text/plain": [
       "<Figure size 432x288 with 2 Axes>"
      ]
     },
     "metadata": {
      "needs_background": "light"
     },
     "output_type": "display_data"
    }
   ],
   "source": [
    "corr_mat = data.corr()\n",
    "sns.heatmap(corr_mat, \n",
    "        xticklabels=corr_mat.columns,\n",
    "        yticklabels=corr_mat.columns)"
   ]
  },
  {
   "cell_type": "code",
   "execution_count": 32,
   "metadata": {},
   "outputs": [
    {
     "name": "stderr",
     "output_type": "stream",
     "text": [
      "C:\\Users\\frain\\AppData\\Local\\Programs\\Python\\Python39\\lib\\site-packages\\statsmodels\\regression\\mixed_linear_model.py:2261: ConvergenceWarning: The Hessian matrix at the estimated parameter values is not positive definite.\n",
      "  warnings.warn(msg, ConvergenceWarning)\n"
     ]
    },
    {
     "data": {
      "text/html": [
       "<table class=\"simpletable\">\n",
       "<tr>\n",
       "       <td>Model:</td>       <td>MixedLM</td> <td>Dependent Variable:</td>    <td>sales</td>  \n",
       "</tr>\n",
       "<tr>\n",
       "  <td>No. Observations:</td>   <td>68</td>          <td>Method:</td>          <td>REML</td>   \n",
       "</tr>\n",
       "<tr>\n",
       "     <td>No. Groups:</td>      <td>68</td>          <td>Scale:</td>        <td>79159.4404</td>\n",
       "</tr>\n",
       "<tr>\n",
       "  <td>Min. group size:</td>     <td>1</td>      <td>Log-Likelihood:</td>    <td>-498.1605</td>\n",
       "</tr>\n",
       "<tr>\n",
       "  <td>Max. group size:</td>     <td>1</td>        <td>Converged:</td>          <td>Yes</td>   \n",
       "</tr>\n",
       "<tr>\n",
       "  <td>Mean group size:</td>    <td>1.0</td>            <td></td>                <td></td>     \n",
       "</tr>\n",
       "</table>\n",
       "<table class=\"simpletable\">\n",
       "<tr>\n",
       "      <td></td>        <th>Coef.</th>   <th>Std.Err.</th>    <th>z</th>   <th>P>|z|</th> <th>[0.025</th>  <th>0.975]</th> \n",
       "</tr>\n",
       "<tr>\n",
       "  <th>Intercept</th>  <td>261.870</td>    <td>7.657</td>  <td>34.202</td> <td>0.000</td> <td>246.864</td> <td>276.877</td>\n",
       "</tr>\n",
       "<tr>\n",
       "  <th>cashflow</th>    <td>5.452</td>     <td>0.237</td>  <td>23.004</td> <td>0.000</td>  <td>4.988</td>   <td>5.917</td> \n",
       "</tr>\n",
       "<tr>\n",
       "  <th>Group Var</th> <td>79159.440</td>     <td></td>        <td></td>      <td></td>       <td></td>        <td></td>    \n",
       "</tr>\n",
       "</table>"
      ],
      "text/plain": [
       "<class 'statsmodels.iolib.summary2.Summary'>\n",
       "\"\"\"\n",
       "          Mixed Linear Model Regression Results\n",
       "=========================================================\n",
       "Model:             MixedLM Dependent Variable: sales     \n",
       "No. Observations:  68      Method:             REML      \n",
       "No. Groups:        68      Scale:              79159.4404\n",
       "Min. group size:   1       Log-Likelihood:     -498.1605 \n",
       "Max. group size:   1       Converged:          Yes       \n",
       "Mean group size:   1.0                                   \n",
       "---------------------------------------------------------\n",
       "            Coef.   Std.Err.   z    P>|z|  [0.025  0.975]\n",
       "---------------------------------------------------------\n",
       "Intercept   261.870    7.657 34.202 0.000 246.864 276.877\n",
       "cashflow      5.452    0.237 23.004 0.000   4.988   5.917\n",
       "Group Var 79159.440                                      \n",
       "=========================================================\n",
       "\n",
       "\"\"\""
      ]
     },
     "execution_count": 32,
     "metadata": {},
     "output_type": "execute_result"
    }
   ],
   "source": [
    "results = smf.mixedlm(f\"sales ~ cashflow\", data, groups = X[\"cashflow\"]).fit()\n",
    "results.summary()"
   ]
  }
 ],
 "metadata": {
  "interpreter": {
   "hash": "556910b116b5632205773c776aae6a9f3d9157e51a05e8354eb46b7548205f67"
  },
  "kernelspec": {
   "display_name": "Python 3.9.4 64-bit",
   "language": "python",
   "name": "python3"
  },
  "language_info": {
   "codemirror_mode": {
    "name": "ipython",
    "version": 3
   },
   "file_extension": ".py",
   "mimetype": "text/x-python",
   "name": "python",
   "nbconvert_exporter": "python",
   "pygments_lexer": "ipython3",
   "version": "3.9.4"
  },
  "orig_nbformat": 4
 },
 "nbformat": 4,
 "nbformat_minor": 2
}
